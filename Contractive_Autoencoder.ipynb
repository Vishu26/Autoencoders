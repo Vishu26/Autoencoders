{
 "cells": [
  {
   "cell_type": "code",
   "execution_count": 67,
   "metadata": {},
   "outputs": [],
   "source": [
    "from keras.models import Input, Model\n",
    "from keras.layers import Dense\n",
    "from keras.datasets.mnist import load_data\n",
    "from keras import backend as K\n",
    "import numpy as np"
   ]
  },
  {
   "cell_type": "code",
   "execution_count": 68,
   "metadata": {},
   "outputs": [],
   "source": [
    "(x_train, _), (x_test, _) = load_data()\n",
    "x_train = x_train/255\n",
    "x_train = x_train.reshape(-1, 784)"
   ]
  },
  {
   "cell_type": "code",
   "execution_count": 69,
   "metadata": {},
   "outputs": [],
   "source": [
    "x_input = Input(shape=(784,))\n",
    "encoder = Dense(32, activation='relu', name='encoder')\n",
    "encode = encoder(x_input)\n",
    "decoder = Dense(784, activation='sigmoid', name='decoder')\n",
    "decode = decoder(encode)"
   ]
  },
  {
   "cell_type": "code",
   "execution_count": 70,
   "metadata": {},
   "outputs": [],
   "source": [
    "enc = Model(x_input, encode)\n",
    "encode_input = Input(shape=(32,))\n",
    "cae = Model(x_input, decode)"
   ]
  },
  {
   "cell_type": "code",
   "execution_count": 88,
   "metadata": {},
   "outputs": [
    {
     "name": "stderr",
     "output_type": "stream",
     "text": [
      "/Library/Frameworks/Python.framework/Versions/3.6/lib/python3.6/site-packages/ipykernel_launcher.py:15: UserWarning: The `nb_epoch` argument in `fit` has been renamed `epochs`.\n",
      "  from ipykernel import kernelapp as app\n"
     ]
    },
    {
     "name": "stdout",
     "output_type": "stream",
     "text": [
      "Epoch 1/12\n",
      "60000/60000 [==============================] - 3s 43us/step - loss: 0.0306\n",
      "Epoch 2/12\n",
      "60000/60000 [==============================] - 2s 36us/step - loss: 0.0284\n",
      "Epoch 3/12\n",
      "60000/60000 [==============================] - 2s 36us/step - loss: 0.0265\n",
      "Epoch 4/12\n",
      "60000/60000 [==============================] - 2s 37us/step - loss: 0.0249\n",
      "Epoch 5/12\n",
      "60000/60000 [==============================] - 2s 37us/step - loss: 0.0235\n",
      "Epoch 6/12\n",
      "60000/60000 [==============================] - 2s 35us/step - loss: 0.0223\n",
      "Epoch 7/12\n",
      "60000/60000 [==============================] - 2s 35us/step - loss: 0.0213\n",
      "Epoch 8/12\n",
      "60000/60000 [==============================] - 2s 38us/step - loss: 0.0204\n",
      "Epoch 9/12\n",
      "60000/60000 [==============================] - 2s 38us/step - loss: 0.0196: 0s - loss: 0.0\n",
      "Epoch 10/12\n",
      "60000/60000 [==============================] - 2s 36us/step - loss: 0.0189\n",
      "Epoch 11/12\n",
      "60000/60000 [==============================] - 2s 35us/step - loss: 0.0183\n",
      "Epoch 12/12\n",
      "60000/60000 [==============================] - 2s 35us/step - loss: 0.0178\n"
     ]
    },
    {
     "data": {
      "text/plain": [
       "<keras.callbacks.History at 0x11c7c3f28>"
      ]
     },
     "execution_count": 88,
     "metadata": {},
     "output_type": "execute_result"
    }
   ],
   "source": [
    "alp = 1e-4\n",
    "def contractive_loss(y_pred, y_true):\n",
    "    mse = K.mean(K.square(y_true - y_pred), axis=1)\n",
    "\n",
    "    W = K.variable(value=cae.get_layer('encoder').get_weights()[0])\n",
    "    W = K.transpose(W)\n",
    "    h = cae.get_layer('encoder').output\n",
    "    dh = h * (1 - h)\n",
    "\n",
    "    contractive = alp * K.sum(dh**2 * K.sum(W**2, axis=1), axis=1)\n",
    "\n",
    "    return mse + contractive\n",
    "\n",
    "cae.compile(optimizer='adam', loss=contractive_loss)\n",
    "cae.fit(x_train, x_train, batch_size=1024, nb_epoch=12)"
   ]
  },
  {
   "cell_type": "code",
   "execution_count": 89,
   "metadata": {},
   "outputs": [],
   "source": [
    "generator = Model(encode_input, cae.layers[-1](encode_input))"
   ]
  },
  {
   "cell_type": "code",
   "execution_count": 92,
   "metadata": {},
   "outputs": [
    {
     "data": {
      "image/png": "[encoded data removed]",
      "text/plain": [
       "<matplotlib.figure.Figure at 0x11d5137b8>"
      ]
     },
     "metadata": {},
     "output_type": "display_data"
    }
   ],
   "source": [
    "import matplotlib\n",
    "import matplotlib.pyplot as plt\n",
    "%matplotlib inline\n",
    "n = 10\n",
    "plt.figure(figsize = (20,4))\n",
    "for i in range(n):\n",
    "    \n",
    "    ax = plt.subplot(2,n,i+1)\n",
    "    t = np.random.rand(1, 32)              ## Generate image from Noise\n",
    "    gen_img = generator.predict(t)\n",
    "    plt.imshow(gen_img.reshape(28,28))\n",
    "    plt.gray()\n",
    "    ax.get_xaxis().set_visible(False)\n",
    "    ax.get_yaxis().set_visible(False)\n",
    "\n",
    "plt.show()"
   ]
  }
 ],
 "metadata": {
  "kernelspec": {
   "display_name": "Python 3",
   "language": "python",
   "name": "python3"
  },
  "language_info": {
   "codemirror_mode": {
    "name": "ipython",
    "version": 3
   },
   "file_extension": ".py",
   "mimetype": "text/x-python",
   "name": "python",
   "nbconvert_exporter": "python",
   "pygments_lexer": "ipython3",
   "version": "3.6.1"
  }
 },
 "nbformat": 4,
 "nbformat_minor": 2
}
