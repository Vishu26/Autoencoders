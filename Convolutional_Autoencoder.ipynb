{
 "cells": [
  {
   "cell_type": "code",
   "execution_count": 4,
   "metadata": {},
   "outputs": [],
   "source": [
    "from keras.layers import Conv2D, Flatten, MaxPool2D, Dense\n",
    "from keras.layers import UpSampling2D, Conv2DTranspose, Reshape\n",
    "from keras.models import Input, Model, Sequential, load_model\n",
    "from keras.datasets.mnist import load_data\n",
    "import numpy as np\n",
    "import h5py"
   ]
  },
  {
   "cell_type": "code",
   "execution_count": 5,
   "metadata": {},
   "outputs": [],
   "source": [
    "X, y = load_data()\n",
    "X = X[0]\n",
    "z = X\n",
    "\n",
    "X = X/255\n",
    "z = z/255\n",
    "\n",
    "X = X[:, np.newaxis, :, :]\n",
    "\n",
    "x_train = Input(shape=(1, 28, 28))"
   ]
  },
  {
   "cell_type": "code",
   "execution_count": 6,
   "metadata": {},
   "outputs": [
    {
     "name": "stderr",
     "output_type": "stream",
     "text": [
      "/Library/Frameworks/Python.framework/Versions/3.6/lib/python3.6/site-packages/ipykernel_launcher.py:3: UserWarning: Update your `MaxPooling2D` call to the Keras 2 API: `MaxPooling2D((2, 2), 2, data_format=\"channels_first\")`\n",
      "  This is separate from the ipykernel package so we can avoid doing imports until\n",
      "/Library/Frameworks/Python.framework/Versions/3.6/lib/python3.6/site-packages/ipykernel_launcher.py:5: UserWarning: Update your `MaxPooling2D` call to the Keras 2 API: `MaxPooling2D((2, 2), 2, data_format=\"channels_first\")`\n",
      "  \"\"\"\n"
     ]
    }
   ],
   "source": [
    "encoder = Sequential()\n",
    "encoder.add(Conv2D(16, kernel_size=(3, 3), strides=(2, 2), padding='same', activation='relu', input_shape=(1, 28, 28)))\n",
    "encoder.add(MaxPool2D((2, 2), 2, dim_ordering='th'))\n",
    "encoder.add(Conv2D(32, kernel_size=(3, 3), strides=(2, 2), padding='same', activation='relu'))\n",
    "encoder.add(MaxPool2D((2, 2), 2, dim_ordering='th'))\n",
    "encoder.add(Flatten())\n",
    "encoder.add(Dense(64, activation='relu'))\n",
    "\n",
    "encoded = encoder(x_train)"
   ]
  },
  {
   "cell_type": "code",
   "execution_count": 7,
   "metadata": {},
   "outputs": [
    {
     "name": "stdout",
     "output_type": "stream",
     "text": [
      "_________________________________________________________________\n",
      "Layer (type)                 Output Shape              Param #   \n",
      "=================================================================\n",
      "conv2d_1 (Conv2D)            (None, 1, 14, 16)         4048      \n",
      "_________________________________________________________________\n",
      "max_pooling2d_1 (MaxPooling2 (None, 1, 7, 8)           0         \n",
      "_________________________________________________________________\n",
      "conv2d_2 (Conv2D)            (None, 1, 4, 32)          2336      \n",
      "_________________________________________________________________\n",
      "max_pooling2d_2 (MaxPooling2 (None, 1, 2, 16)          0         \n",
      "_________________________________________________________________\n",
      "flatten_1 (Flatten)          (None, 32)                0         \n",
      "_________________________________________________________________\n",
      "dense_1 (Dense)              (None, 64)                2112      \n",
      "=================================================================\n",
      "Total params: 8,496\n",
      "Trainable params: 8,496\n",
      "Non-trainable params: 0\n",
      "_________________________________________________________________\n",
      "_________________________________________________________________\n",
      "Layer (type)                 Output Shape              Param #   \n",
      "=================================================================\n",
      "reshape_1 (Reshape)          (None, 1, 8, 8)           0         \n",
      "_________________________________________________________________\n",
      "conv2d_transpose_1 (Conv2DTr (None, 3, 17, 32)         2336      \n",
      "_________________________________________________________________\n",
      "up_sampling2d_1 (UpSampling2 (None, 6, 34, 32)         0         \n",
      "_________________________________________________________________\n",
      "conv2d_transpose_2 (Conv2DTr (None, 13, 69, 16)        4624      \n",
      "_________________________________________________________________\n",
      "up_sampling2d_2 (UpSampling2 (None, 26, 138, 16)       0         \n",
      "_________________________________________________________________\n",
      "flatten_2 (Flatten)          (None, 57408)             0         \n",
      "_________________________________________________________________\n",
      "dense_2 (Dense)              (None, 64)                3674176   \n",
      "_________________________________________________________________\n",
      "dense_3 (Dense)              (None, 784)               50960     \n",
      "_________________________________________________________________\n",
      "reshape_2 (Reshape)          (None, 28, 28)            0         \n",
      "=================================================================\n",
      "Total params: 3,732,096\n",
      "Trainable params: 3,732,096\n",
      "Non-trainable params: 0\n",
      "_________________________________________________________________\n"
     ]
    }
   ],
   "source": [
    "decoder = Sequential()\n",
    "decoder.add(Reshape(target_shape=(-1, 8, 8), input_shape=(64,)))\n",
    "decoder.add(Conv2DTranspose(32, kernel_size=(3, 3), strides=(2, 2), activation='relu'))\n",
    "decoder.add(UpSampling2D((2, 2)))\n",
    "decoder.add(Conv2DTranspose(16, kernel_size=(3, 3), strides=(2, 2), activation='relu'))\n",
    "decoder.add(UpSampling2D((2, 2)))\n",
    "decoder.add(Flatten())\n",
    "decoder.add(Dense(64, activation='relu'))\n",
    "decoder.add(Dense(784, activation='sigmoid'))\n",
    "decoder.add(Reshape(target_shape=(28, 28)))\n",
    "encoder.summary()\n",
    "decoder.summary()\n",
    "decoded = decoder(encoded)"
   ]
  },
  {
   "cell_type": "code",
   "execution_count": 8,
   "metadata": {},
   "outputs": [
    {
     "name": "stdout",
     "output_type": "stream",
     "text": [
      "_________________________________________________________________\n",
      "Layer (type)                 Output Shape              Param #   \n",
      "=================================================================\n",
      "input_1 (InputLayer)         (None, 1, 28, 28)         0         \n",
      "_________________________________________________________________\n",
      "sequential_1 (Sequential)    (None, 64)                8496      \n",
      "_________________________________________________________________\n",
      "sequential_2 (Sequential)    (None, 28, 28)            3732096   \n",
      "=================================================================\n",
      "Total params: 3,740,592\n",
      "Trainable params: 3,740,592\n",
      "Non-trainable params: 0\n",
      "_________________________________________________________________\n"
     ]
    }
   ],
   "source": [
    "autoencoder = Model(x_train, decoded)\n",
    "\n",
    "autoencoder.summary()"
   ]
  },
  {
   "cell_type": "code",
   "execution_count": 9,
   "metadata": {},
   "outputs": [
    {
     "name": "stdout",
     "output_type": "stream",
     "text": [
      "Train on 48000 samples, validate on 12000 samples\n",
      "Epoch 1/10\n",
      "48000/48000 [==============================] - 84s 2ms/step - loss: 0.3855 - val_loss: 0.2631\n",
      "Epoch 2/10\n",
      "48000/48000 [==============================] - 73s 2ms/step - loss: 0.2542 - val_loss: 0.2412\n",
      "Epoch 3/10\n",
      "48000/48000 [==============================] - 72s 2ms/step - loss: 0.2255 - val_loss: 0.2092\n",
      "Epoch 4/10\n",
      "48000/48000 [==============================] - 74s 2ms/step - loss: 0.1957 - val_loss: 0.1847\n",
      "Epoch 5/10\n",
      "48000/48000 [==============================] - 70s 1ms/step - loss: 0.1773 - val_loss: 0.1711\n",
      "Epoch 6/10\n",
      "48000/48000 [==============================] - 74s 2ms/step - loss: 0.1660 - val_loss: 0.1620\n",
      "Epoch 7/10\n",
      "48000/48000 [==============================] - 74s 2ms/step - loss: 0.1575 - val_loss: 0.1549\n",
      "Epoch 8/10\n",
      "48000/48000 [==============================] - 73s 2ms/step - loss: 0.1505 - val_loss: 0.1483\n",
      "Epoch 9/10\n",
      "48000/48000 [==============================] - 72s 2ms/step - loss: 0.1449 - val_loss: 0.1435\n",
      "Epoch 10/10\n",
      "48000/48000 [==============================] - 81s 2ms/step - loss: 0.1402 - val_loss: 0.1393\n"
     ]
    }
   ],
   "source": [
    "autoencoder.compile(optimizer='adam', loss='binary_crossentropy')\n",
    "\n",
    "autoencoder.fit(X, z, epochs=10, validation_split=0.2, batch_size=1024)\n",
    "\n",
    "autoencoder.save('auto.h5')"
   ]
  },
  {
   "cell_type": "code",
   "execution_count": 10,
   "metadata": {},
   "outputs": [],
   "source": [
    "## Generating\n",
    "\n",
    "x_test = y[0]\n",
    "x_test = x_test/255\n",
    "x_test = x_test[:, np.newaxis, :, :]\n",
    "\n",
    "generatedImg = autoencoder.predict(x_test)"
   ]
  },
  {
   "cell_type": "code",
   "execution_count": 17,
   "metadata": {},
   "outputs": [
    {
     "data": {
      "image/png": "[encoded data removed]",
      "text/plain": [
       "<matplotlib.figure.Figure at 0x11da56320>"
      ]
     },
     "metadata": {},
     "output_type": "display_data"
    }
   ],
   "source": [
    "\n",
    "\n",
    "import matplotlib\n",
    "import matplotlib.pyplot as plt\n",
    "%matplotlib inline\n",
    "n = 10\n",
    "plt.figure(figsize = (20,4))\n",
    "for i in range(n):\n",
    "    #displaying original\n",
    "    ax = plt.subplot(2,n,i+1)\n",
    "    plt.imshow(y[0][i])\n",
    "    plt.gray()\n",
    "    ax.get_xaxis().set_visible(False)\n",
    "    ax.get_yaxis().set_visible(False)\n",
    "    \n",
    "    #displaying predictions\n",
    "    ax = plt.subplot(2,n,i+1+n)\n",
    "    plt.imshow(generatedImg[i])\n",
    "    plt.gray()\n",
    "    ax.get_xaxis().set_visible(False)\n",
    "    ax.get_yaxis().set_visible(False)\n",
    "plt.show() "
   ]
  },
  {
   "cell_type": "code",
   "execution_count": null,
   "metadata": {},
   "outputs": [],
   "source": []
  }
 ],
 "metadata": {
  "kernelspec": {
   "display_name": "Python 3",
   "language": "python",
   "name": "python3"
  },
  "language_info": {
   "codemirror_mode": {
    "name": "ipython",
    "version": 3
   },
   "file_extension": ".py",
   "mimetype": "text/x-python",
   "name": "python",
   "nbconvert_exporter": "python",
   "pygments_lexer": "ipython3",
   "version": "3.6.1"
  }
 },
 "nbformat": 4,
 "nbformat_minor": 2
}
