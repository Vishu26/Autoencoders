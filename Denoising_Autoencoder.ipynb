{
 "cells": [
  {
   "cell_type": "code",
   "execution_count": 134,
   "metadata": {},
   "outputs": [],
   "source": [
    "from keras.layers import Conv2D, Flatten, MaxPool2D, Dense\n",
    "from keras.layers import UpSampling2D, Conv2DTranspose, Reshape\n",
    "from keras.models import Input, Model, Sequential, load_model\n",
    "from keras.datasets.mnist import load_data\n",
    "import numpy as np\n",
    "import h5py\n",
    "import random"
   ]
  },
  {
   "cell_type": "code",
   "execution_count": 135,
   "metadata": {},
   "outputs": [],
   "source": [
    "X, y = load_data()\n",
    "X = X[0]\n",
    "x_train = Input(shape=(1, 28, 28))"
   ]
  },
  {
   "cell_type": "code",
   "execution_count": 136,
   "metadata": {},
   "outputs": [
    {
     "name": "stderr",
     "output_type": "stream",
     "text": [
      "/Library/Frameworks/Python.framework/Versions/3.6/lib/python3.6/site-packages/ipykernel_launcher.py:3: UserWarning: Update your `MaxPooling2D` call to the Keras 2 API: `MaxPooling2D((2, 2), 2, data_format=\"channels_first\")`\n",
      "  This is separate from the ipykernel package so we can avoid doing imports until\n",
      "/Library/Frameworks/Python.framework/Versions/3.6/lib/python3.6/site-packages/ipykernel_launcher.py:5: UserWarning: Update your `MaxPooling2D` call to the Keras 2 API: `MaxPooling2D((2, 2), 2, data_format=\"channels_first\")`\n",
      "  \"\"\"\n"
     ]
    }
   ],
   "source": [
    "encoder = Sequential()\n",
    "encoder.add(Conv2D(16, kernel_size=(3, 3), strides=(2, 2), padding='same', activation='relu', input_shape=(1, 28, 28)))\n",
    "encoder.add(MaxPool2D((2, 2), 2, dim_ordering='th'))\n",
    "encoder.add(Conv2D(32, kernel_size=(3, 3), strides=(2, 2), padding='same', activation='relu'))\n",
    "encoder.add(MaxPool2D((2, 2), 2, dim_ordering='th'))\n",
    "encoder.add(Flatten())\n",
    "encoder.add(Dense(64, activation='relu'))\n",
    "\n",
    "encoded = encoder(x_train)"
   ]
  },
  {
   "cell_type": "code",
   "execution_count": 137,
   "metadata": {},
   "outputs": [
    {
     "name": "stdout",
     "output_type": "stream",
     "text": [
      "_________________________________________________________________\n",
      "Layer (type)                 Output Shape              Param #   \n",
      "=================================================================\n",
      "conv2d_61 (Conv2D)           (None, 1, 14, 16)         4048      \n",
      "_________________________________________________________________\n",
      "max_pooling2d_45 (MaxPooling (None, 1, 7, 8)           0         \n",
      "_________________________________________________________________\n",
      "conv2d_62 (Conv2D)           (None, 1, 4, 32)          2336      \n",
      "_________________________________________________________________\n",
      "max_pooling2d_46 (MaxPooling (None, 1, 2, 16)          0         \n",
      "_________________________________________________________________\n",
      "flatten_20 (Flatten)         (None, 32)                0         \n",
      "_________________________________________________________________\n",
      "dense_29 (Dense)             (None, 64)                2112      \n",
      "=================================================================\n",
      "Total params: 8,496\n",
      "Trainable params: 8,496\n",
      "Non-trainable params: 0\n",
      "_________________________________________________________________\n",
      "_________________________________________________________________\n",
      "Layer (type)                 Output Shape              Param #   \n",
      "=================================================================\n",
      "reshape_19 (Reshape)         (None, 1, 8, 8)           0         \n",
      "_________________________________________________________________\n",
      "conv2d_transpose_37 (Conv2DT (None, 3, 17, 32)         2336      \n",
      "_________________________________________________________________\n",
      "up_sampling2d_41 (UpSampling (None, 6, 34, 32)         0         \n",
      "_________________________________________________________________\n",
      "conv2d_transpose_38 (Conv2DT (None, 13, 69, 16)        4624      \n",
      "_________________________________________________________________\n",
      "up_sampling2d_42 (UpSampling (None, 26, 138, 16)       0         \n",
      "_________________________________________________________________\n",
      "flatten_21 (Flatten)         (None, 57408)             0         \n",
      "_________________________________________________________________\n",
      "dense_30 (Dense)             (None, 64)                3674176   \n",
      "_________________________________________________________________\n",
      "dense_31 (Dense)             (None, 784)               50960     \n",
      "_________________________________________________________________\n",
      "reshape_20 (Reshape)         (None, 28, 28)            0         \n",
      "=================================================================\n",
      "Total params: 3,732,096\n",
      "Trainable params: 3,732,096\n",
      "Non-trainable params: 0\n",
      "_________________________________________________________________\n"
     ]
    }
   ],
   "source": [
    "decoder = Sequential()\n",
    "decoder.add(Reshape(target_shape=(-1, 8, 8), input_shape=(64,)))\n",
    "decoder.add(Conv2DTranspose(32, kernel_size=(3, 3), strides=(2, 2), activation='relu'))\n",
    "decoder.add(UpSampling2D((2, 2)))\n",
    "decoder.add(Conv2DTranspose(16, kernel_size=(3, 3), strides=(2, 2), activation='relu'))\n",
    "decoder.add(UpSampling2D((2, 2)))\n",
    "decoder.add(Flatten())\n",
    "decoder.add(Dense(64, activation='relu'))\n",
    "decoder.add(Dense(784, activation='sigmoid'))\n",
    "decoder.add(Reshape(target_shape=(28, 28)))\n",
    "encoder.summary()\n",
    "decoder.summary()\n",
    "decoded = decoder(encoded)"
   ]
  },
  {
   "cell_type": "code",
   "execution_count": 138,
   "metadata": {},
   "outputs": [
    {
     "name": "stdout",
     "output_type": "stream",
     "text": [
      "_________________________________________________________________\n",
      "Layer (type)                 Output Shape              Param #   \n",
      "=================================================================\n",
      "input_26 (InputLayer)        (None, 1, 28, 28)         0         \n",
      "_________________________________________________________________\n",
      "sequential_23 (Sequential)   (None, 64)                8496      \n",
      "_________________________________________________________________\n",
      "sequential_24 (Sequential)   (None, 28, 28)            3732096   \n",
      "=================================================================\n",
      "Total params: 3,740,592\n",
      "Trainable params: 3,740,592\n",
      "Non-trainable params: 0\n",
      "_________________________________________________________________\n"
     ]
    }
   ],
   "source": [
    "autoencoder = Model(x_train, decoded)\n",
    "\n",
    "autoencoder.summary()"
   ]
  },
  {
   "cell_type": "code",
   "execution_count": 139,
   "metadata": {},
   "outputs": [],
   "source": [
    "def sp_noise(image,prob):\n",
    "\n",
    "    output = np.zeros(image.shape,np.uint8)\n",
    "    thres = 1 - prob\n",
    "    for k in range(len(image)):\n",
    "        for i in range(28):\n",
    "            for j in range(28):\n",
    "                rdn = random.random()\n",
    "                if rdn < prob:\n",
    "                    output[k][i][j] = 0\n",
    "                elif rdn > thres:\n",
    "                    output[k][i][j] = 255\n",
    "                else:\n",
    "                    output[k][i][j] = image[k][i][j]\n",
    "    return output"
   ]
  },
  {
   "cell_type": "code",
   "execution_count": 141,
   "metadata": {},
   "outputs": [
    {
     "data": {
      "image/png": "[encoded data removed]",
      "text/plain": [
       "<matplotlib.figure.Figure at 0x123da6ef0>"
      ]
     },
     "metadata": {},
     "output_type": "display_data"
    }
   ],
   "source": [
    "autoencoder.compile(optimizer='adam', loss='binary_crossentropy')\n",
    "\n",
    "train_noisy = sp_noise(X, 0.15)\n",
    "n = 10\n",
    "plt.figure(figsize=(20, 2))\n",
    "for i in range(1, n):\n",
    "    ax = plt.subplot(1, n, i)\n",
    "    plt.imshow(train_noisy[i])\n",
    "    plt.gray()\n",
    "    ax.get_xaxis().set_visible(False)\n",
    "    ax.get_yaxis().set_visible(False)\n",
    "plt.show()"
   ]
  },
  {
   "cell_type": "code",
   "execution_count": 142,
   "metadata": {},
   "outputs": [
    {
     "name": "stdout",
     "output_type": "stream",
     "text": [
      "Train on 54000 samples, validate on 6000 samples\n",
      "Epoch 1/10\n",
      "54000/54000 [==============================] - 79s 1ms/step - loss: 0.3802 - val_loss: 0.2640\n",
      "Epoch 2/10\n",
      "54000/54000 [==============================] - 80s 1ms/step - loss: 0.2598 - val_loss: 0.2564\n",
      "Epoch 3/10\n",
      "54000/54000 [==============================] - 79s 1ms/step - loss: 0.2536 - val_loss: 0.2487\n",
      "Epoch 4/10\n",
      "54000/54000 [==============================] - 78s 1ms/step - loss: 0.2402 - val_loss: 0.2302\n",
      "Epoch 5/10\n",
      "54000/54000 [==============================] - 77s 1ms/step - loss: 0.2209 - val_loss: 0.2108\n",
      "Epoch 6/10\n",
      "54000/54000 [==============================] - 81s 2ms/step - loss: 0.2015 - val_loss: 0.1938\n",
      "Epoch 7/10\n",
      "54000/54000 [==============================] - 79s 1ms/step - loss: 0.1888 - val_loss: 0.1852\n",
      "Epoch 8/10\n",
      "54000/54000 [==============================] - 77s 1ms/step - loss: 0.1817 - val_loss: 0.1790\n",
      "Epoch 9/10\n",
      "54000/54000 [==============================] - 79s 1ms/step - loss: 0.1763 - val_loss: 0.1744\n",
      "Epoch 10/10\n",
      "54000/54000 [==============================] - 83s 2ms/step - loss: 0.1719 - val_loss: 0.1710\n"
     ]
    },
    {
     "data": {
      "text/plain": [
       "<keras.callbacks.History at 0x12fbcae48>"
      ]
     },
     "execution_count": 142,
     "metadata": {},
     "output_type": "execute_result"
    }
   ],
   "source": [
    "train_noisy = train_noisy[:, np.newaxis, :, :]\n",
    "train_noisy = train_noisy/255\n",
    "X = X / 255\n",
    "autoencoder.fit(train_noisy, X, epochs=10, validation_split=0.1, batch_size=1024)"
   ]
  },
  {
   "cell_type": "code",
   "execution_count": 148,
   "metadata": {},
   "outputs": [
    {
     "name": "stdout",
     "output_type": "stream",
     "text": [
      "Train on 54000 samples, validate on 6000 samples\n",
      "Epoch 1/3\n",
      "54000/54000 [==============================] - 79s 1ms/step - loss: 0.1535 - val_loss: 0.1535\n",
      "Epoch 2/3\n",
      "54000/54000 [==============================] - 85s 2ms/step - loss: 0.1523 - val_loss: 0.1519\n",
      "Epoch 3/3\n",
      "54000/54000 [==============================] - 82s 2ms/step - loss: 0.1509 - val_loss: 0.1511\n"
     ]
    },
    {
     "data": {
      "text/plain": [
       "<keras.callbacks.History at 0x1396328d0>"
      ]
     },
     "execution_count": 148,
     "metadata": {},
     "output_type": "execute_result"
    }
   ],
   "source": [
    "autoencoder.fit(train_noisy, X, epochs=3, validation_split=0.1, batch_size=1024)"
   ]
  },
  {
   "cell_type": "code",
   "execution_count": 167,
   "metadata": {},
   "outputs": [
    {
     "data": {
      "image/png": "[encoded data removed]",
      "text/plain": [
       "<matplotlib.figure.Figure at 0x11cf1c470>"
      ]
     },
     "metadata": {},
     "output_type": "display_data"
    }
   ],
   "source": [
    "a = autoencoder.predict(train_noisy[40:90])\n",
    "plt.figure(figsize=(20, 4))\n",
    "for i in range(1, 10):\n",
    "    ax = plt.subplot(2, n, i)\n",
    "    plt.imshow(train_noisy[i+40, -1, :, :])\n",
    "    plt.gray()\n",
    "    ax.get_xaxis().set_visible(False)\n",
    "    ax.get_yaxis().set_visible(False)\n",
    "    \n",
    "    ax = plt.subplot(2, n, i+n)\n",
    "    plt.imshow(a[i])\n",
    "    plt.gray()\n",
    "    ax.get_xaxis().set_visible(False)\n",
    "    ax.get_yaxis().set_visible(False)\n",
    "plt.show()"
   ]
  }
 ],
 "metadata": {
  "kernelspec": {
   "display_name": "Python 3",
   "language": "python",
   "name": "python3"
  },
  "language_info": {
   "codemirror_mode": {
    "name": "ipython",
    "version": 3
   },
   "file_extension": ".py",
   "mimetype": "text/x-python",
   "name": "python",
   "nbconvert_exporter": "python",
   "pygments_lexer": "ipython3",
   "version": "3.6.1"
  }
 },
 "nbformat": 4,
 "nbformat_minor": 2
}
