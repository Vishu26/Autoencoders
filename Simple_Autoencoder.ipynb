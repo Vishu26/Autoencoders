{
 "cells": [
  {
   "cell_type": "code",
   "execution_count": 1,
   "metadata": {},
   "outputs": [
    {
     "name": "stderr",
     "output_type": "stream",
     "text": [
      "/Library/Frameworks/Python.framework/Versions/3.6/lib/python3.6/site-packages/h5py/__init__.py:36: FutureWarning: Conversion of the second argument of issubdtype from `float` to `np.floating` is deprecated. In future, it will be treated as `np.float64 == np.dtype(float).type`.\n",
      "  from ._conv import register_converters as _register_converters\n",
      "Using TensorFlow backend.\n"
     ]
    }
   ],
   "source": [
    "from keras.layers import Dense, Input\n",
    "from keras.models import Model"
   ]
  },
  {
   "cell_type": "code",
   "execution_count": 2,
   "metadata": {},
   "outputs": [],
   "source": [
    "encodingDim = 32\n",
    "inputImg = Input(shape=(784,))\n",
    "encodedIP = Dense(encodingDim,activation ='relu')(inputImg)\n",
    "decodedIP = Dense(784,activation='sigmoid')(encodedIP)"
   ]
  },
  {
   "cell_type": "code",
   "execution_count": 3,
   "metadata": {},
   "outputs": [
    {
     "name": "stderr",
     "output_type": "stream",
     "text": [
      "/Library/Frameworks/Python.framework/Versions/3.6/lib/python3.6/site-packages/ipykernel_launcher.py:1: UserWarning: Update your `Model` call to the Keras 2 API: `Model(inputs=Tensor(\"in..., outputs=Tensor(\"de...)`\n",
      "  \"\"\"Entry point for launching an IPython kernel.\n"
     ]
    }
   ],
   "source": [
    "autoencoder = Model(input = inputImg,output = decodedIP)\n",
    "#autoencoder takes the input image and goves the output decoded img"
   ]
  },
  {
   "cell_type": "code",
   "execution_count": 4,
   "metadata": {},
   "outputs": [
    {
     "name": "stderr",
     "output_type": "stream",
     "text": [
      "/Library/Frameworks/Python.framework/Versions/3.6/lib/python3.6/site-packages/ipykernel_launcher.py:1: UserWarning: Update your `Model` call to the Keras 2 API: `Model(inputs=Tensor(\"in..., outputs=Tensor(\"de...)`\n",
      "  \"\"\"Entry point for launching an IPython kernel.\n",
      "/Library/Frameworks/Python.framework/Versions/3.6/lib/python3.6/site-packages/ipykernel_launcher.py:4: UserWarning: Update your `Model` call to the Keras 2 API: `Model(inputs=Tensor(\"in..., outputs=Tensor(\"de...)`\n",
      "  after removing the cwd from sys.path.\n"
     ]
    }
   ],
   "source": [
    "encoder = Model(input = inputImg,output= encodedIP)\n",
    "encodedShaped = Input(shape=(encodingDim,))\n",
    "decoder_layer = autoencoder.layers[-1]\n",
    "decoder = Model(input = encodedShaped, output = decoder_layer(encodedShaped))"
   ]
  },
  {
   "cell_type": "code",
   "execution_count": 14,
   "metadata": {},
   "outputs": [],
   "source": [
    "autoencoder.compile(optimizer='adadelta', loss = 'binary_crossentropy')"
   ]
  },
  {
   "cell_type": "code",
   "execution_count": 15,
   "metadata": {},
   "outputs": [],
   "source": [
    "from keras.datasets import mnist\n",
    "#load the digits dataset called mnist"
   ]
  },
  {
   "cell_type": "code",
   "execution_count": 16,
   "metadata": {},
   "outputs": [],
   "source": [
    "import numpy as np"
   ]
  },
  {
   "cell_type": "code",
   "execution_count": 17,
   "metadata": {},
   "outputs": [],
   "source": [
    "(xtrain,_),(xtest,_) = mnist.load_data()"
   ]
  },
  {
   "cell_type": "code",
   "execution_count": 18,
   "metadata": {},
   "outputs": [
    {
     "name": "stdout",
     "output_type": "stream",
     "text": [
      "(60000, 28, 28)\n",
      "(60000, 784)\n"
     ]
    }
   ],
   "source": [
    "xtrain = xtrain.astype('float32')/255\n",
    "xtest = xtest.astype('float32')/255\n",
    "#normalising xtrain and xtest\n",
    "\n",
    "print (xtrain.shape)\n",
    "xtrain = xtrain.reshape(len(xtrain), np.prod(xtrain.shape[1:]))\n",
    "print (xtrain.shape)\n",
    "#flattening 28x28 into 784\n",
    "\n",
    "#//y for xtest\n",
    "xtest = xtest.reshape(len(xtest),np.prod(xtest.shape[1:]))"
   ]
  },
  {
   "cell_type": "markdown",
   "metadata": {},
   "source": [
    "## Training the autoencoder"
   ]
  },
  {
   "cell_type": "code",
   "execution_count": 19,
   "metadata": {},
   "outputs": [
    {
     "name": "stdout",
     "output_type": "stream",
     "text": [
      "Train on 60000 samples, validate on 10000 samples\n",
      "Epoch 1/12\n",
      "60000/60000 [==============================] - 4s 74us/step - loss: 0.0928 - val_loss: 0.0916\n",
      "Epoch 2/12\n",
      "60000/60000 [==============================] - 4s 65us/step - loss: 0.0928 - val_loss: 0.0916\n",
      "Epoch 3/12\n",
      "60000/60000 [==============================] - 4s 61us/step - loss: 0.0928 - val_loss: 0.0916\n",
      "Epoch 4/12\n",
      "60000/60000 [==============================] - 4s 66us/step - loss: 0.0928 - val_loss: 0.0916\n",
      "Epoch 5/12\n",
      "60000/60000 [==============================] - 4s 63us/step - loss: 0.0928 - val_loss: 0.0916\n",
      "Epoch 6/12\n",
      "60000/60000 [==============================] - 4s 72us/step - loss: 0.0928 - val_loss: 0.0916\n",
      "Epoch 7/12\n",
      "60000/60000 [==============================] - 5s 85us/step - loss: 0.0928 - val_loss: 0.0916\n",
      "Epoch 8/12\n",
      "60000/60000 [==============================] - 4s 71us/step - loss: 0.0928 - val_loss: 0.0916\n",
      "Epoch 9/12\n",
      "60000/60000 [==============================] - 4s 63us/step - loss: 0.0928 - val_loss: 0.0916\n",
      "Epoch 10/12\n",
      "60000/60000 [==============================] - 4s 69us/step - loss: 0.0928 - val_loss: 0.0916\n",
      "Epoch 11/12\n",
      "60000/60000 [==============================] - 4s 62us/step - loss: 0.0928 - val_loss: 0.0916\n",
      "Epoch 12/12\n",
      "60000/60000 [==============================] - 4s 62us/step - loss: 0.0928 - val_loss: 0.0916\n"
     ]
    },
    {
     "data": {
      "text/plain": [
       "<keras.callbacks.History at 0x12d2204a8>"
      ]
     },
     "execution_count": 19,
     "metadata": {},
     "output_type": "execute_result"
    }
   ],
   "source": [
    "autoencoder.fit(xtrain,xtrain,epochs=12,verbose=1,batch_size=256,shuffle=True,\n",
    "                validation_data=(xtest,xtest))"
   ]
  },
  {
   "cell_type": "code",
   "execution_count": 20,
   "metadata": {},
   "outputs": [],
   "source": [
    "encodedImgs = encoder.predict(xtest)\n",
    "decodedImgs = decoder.predict(encodedImgs)"
   ]
  },
  {
   "cell_type": "code",
   "execution_count": 21,
   "metadata": {},
   "outputs": [
    {
     "data": {
      "image/png": "[encoded data removed]",
      "text/plain": [
       "<matplotlib.figure.Figure at 0x129ef2e48>"
      ]
     },
     "metadata": {},
     "output_type": "display_data"
    }
   ],
   "source": [
    "import matplotlib\n",
    "import matplotlib.pyplot as plt\n",
    "%matplotlib inline\n",
    "n = 10\n",
    "plt.figure(figsize = (20,4))\n",
    "for i in range(n):\n",
    "    #displaying original\n",
    "    ax = plt.subplot(2,n,i+1)\n",
    "    plt.imshow(xtest[i].reshape(28,28))\n",
    "    plt.gray()\n",
    "    ax.get_xaxis().set_visible(False)\n",
    "    ax.get_yaxis().set_visible(False)\n",
    "    \n",
    "    #displaying predictions\n",
    "    ax = plt.subplot(2,n,i+1+n)\n",
    "    plt.imshow(decodedImgs[i].reshape(28,28))\n",
    "    plt.gray()\n",
    "    ax.get_xaxis().set_visible(False)\n",
    "    ax.get_yaxis().set_visible(False)\n",
    "plt.show() "
   ]
  },
  {
   "cell_type": "code",
   "execution_count": null,
   "metadata": {
    "collapsed": true
   },
   "outputs": [],
   "source": []
  }
 ],
 "metadata": {
  "anaconda-cloud": {},
  "kernelspec": {
   "display_name": "Python 3",
   "language": "python",
   "name": "python3"
  },
  "language_info": {
   "codemirror_mode": {
    "name": "ipython",
    "version": 3
   },
   "file_extension": ".py",
   "mimetype": "text/x-python",
   "name": "python",
   "nbconvert_exporter": "python",
   "pygments_lexer": "ipython3",
   "version": "3.6.1"
  }
 },
 "nbformat": 4,
 "nbformat_minor": 2
}
