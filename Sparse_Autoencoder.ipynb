{
 "cells": [
  {
   "cell_type": "code",
   "execution_count": 98,
   "metadata": {},
   "outputs": [],
   "source": [
    "from keras.models import Input, Model\n",
    "from keras.layers import Dense\n",
    "from keras.datasets.mnist import load_data\n",
    "from keras import backend as K\n",
    "import numpy as np"
   ]
  },
  {
   "cell_type": "code",
   "execution_count": 99,
   "metadata": {},
   "outputs": [],
   "source": [
    "(x_train, _), (x_test, _) = load_data()\n",
    "x_train = x_train/255\n",
    "x_train = x_train.reshape(-1, 784)"
   ]
  },
  {
   "cell_type": "code",
   "execution_count": 100,
   "metadata": {},
   "outputs": [],
   "source": [
    "x_input = Input(shape=(784,))\n",
    "encoder = Dense(32, activation='relu')(x_input)\n",
    "decoder = Dense(784, activation='sigmoid')(encoder)"
   ]
  },
  {
   "cell_type": "code",
   "execution_count": 101,
   "metadata": {},
   "outputs": [],
   "source": [
    "encode = Model(x_input, encoder)\n",
    "sparse_autoencoder = Model(x_input, decoder)"
   ]
  },
  {
   "cell_type": "code",
   "execution_count": 102,
   "metadata": {},
   "outputs": [],
   "source": [
    "beta = 0.05\n",
    "rho= 0.05"
   ]
  },
  {
   "cell_type": "code",
   "execution_count": 103,
   "metadata": {},
   "outputs": [],
   "source": [
    "def loss(y, y_pred):\n",
    "    \n",
    "    hidden_activation = np.sum(encode.predict(x_train), axis=0)/x_train.shape[0]\n",
    "    kl = 0\n",
    "    for i in range(32):\n",
    "        kl+= rho*np.log(rho/hidden_activation[i]) + (1-rho)*np.log((1-rho)/(1-hidden_activation[i]))\n",
    "    l = K.mean(K.square(y-y_pred)) + beta*kl\n",
    "    return l"
   ]
  },
  {
   "cell_type": "code",
   "execution_count": 104,
   "metadata": {},
   "outputs": [],
   "source": [
    "sparse_autoencoder.compile(loss=loss, optimizer='adam')"
   ]
  },
  {
   "cell_type": "code",
   "execution_count": 106,
   "metadata": {},
   "outputs": [
    {
     "name": "stdout",
     "output_type": "stream",
     "text": [
      "Train on 48000 samples, validate on 12000 samples\n",
      "Epoch 1/15\n",
      "48000/48000 [==============================] - 2s 38us/step - loss: 0.2300 - val_loss: 0.2275\n",
      "Epoch 2/15\n",
      "48000/48000 [==============================] - 2s 37us/step - loss: 0.2262 - val_loss: 0.2242\n",
      "Epoch 3/15\n",
      "48000/48000 [==============================] - 2s 36us/step - loss: 0.2231 - val_loss: 0.2214\n",
      "Epoch 4/15\n",
      "48000/48000 [==============================] - 2s 37us/step - loss: 0.2205 - val_loss: 0.2191\n",
      "Epoch 5/15\n",
      "48000/48000 [==============================] - 2s 38us/step - loss: 0.2183 - val_loss: 0.2170\n",
      "Epoch 6/15\n",
      "48000/48000 [==============================] - 2s 37us/step - loss: 0.2164 - val_loss: 0.2153\n",
      "Epoch 7/15\n",
      "48000/48000 [==============================] - 2s 39us/step - loss: 0.2147 - val_loss: 0.2137\n",
      "Epoch 8/15\n",
      "48000/48000 [==============================] - 2s 38us/step - loss: 0.2132 - val_loss: 0.2124\n",
      "Epoch 9/15\n",
      "48000/48000 [==============================] - 2s 44us/step - loss: 0.2119 - val_loss: 0.2111\n",
      "Epoch 10/15\n",
      "48000/48000 [==============================] - 2s 49us/step - loss: 0.2107 - val_loss: 0.2100\n",
      "Epoch 11/15\n",
      "48000/48000 [==============================] - 2s 48us/step - loss: 0.2096 - val_loss: 0.2090\n",
      "Epoch 12/15\n",
      "48000/48000 [==============================] - 2s 39us/step - loss: 0.2087 - val_loss: 0.2081\n",
      "Epoch 13/15\n",
      "48000/48000 [==============================] - 2s 41us/step - loss: 0.2078 - val_loss: 0.2072\n",
      "Epoch 14/15\n",
      "48000/48000 [==============================] - 2s 38us/step - loss: 0.2070 - val_loss: 0.2065\n",
      "Epoch 15/15\n",
      "48000/48000 [==============================] - 2s 38us/step - loss: 0.2063 - val_loss: 0.2058\n"
     ]
    },
    {
     "data": {
      "text/plain": [
       "<keras.callbacks.History at 0x150d405c0>"
      ]
     },
     "execution_count": 106,
     "metadata": {},
     "output_type": "execute_result"
    }
   ],
   "source": [
    "sparse_autoencoder.fit(x_train, x_train, epochs=15, batch_size=1024, validation_split=0.2)"
   ]
  },
  {
   "cell_type": "code",
   "execution_count": 107,
   "metadata": {},
   "outputs": [
    {
     "data": {
      "image/png": "[encoded data removed]",
      "text/plain": [
       "<matplotlib.figure.Figure at 0x105ac7d30>"
      ]
     },
     "metadata": {},
     "output_type": "display_data"
    }
   ],
   "source": [
    "x_test = x_test/255\n",
    "x_test = x_test.reshape(-1, 784)\n",
    "img = sparse_autoencoder.predict(x_test)\n",
    "import matplotlib\n",
    "import matplotlib.pyplot as plt\n",
    "%matplotlib inline\n",
    "n = 10\n",
    "plt.figure(figsize = (20,4))\n",
    "for i in range(n):\n",
    "    #displaying original\n",
    "    ax = plt.subplot(2,n,i+1)\n",
    "    plt.imshow(x_test[i].reshape(28,28))\n",
    "    plt.gray()\n",
    "    ax.get_xaxis().set_visible(False)\n",
    "    ax.get_yaxis().set_visible(False)\n",
    "    \n",
    "    #displaying predictions\n",
    "    ax = plt.subplot(2,n,i+1+n)\n",
    "    plt.imshow(img[i].reshape(28,28))\n",
    "    plt.gray()\n",
    "    ax.get_xaxis().set_visible(False)\n",
    "    ax.get_yaxis().set_visible(False)\n",
    "plt.show()"
   ]
  },
  {
   "cell_type": "code",
   "execution_count": null,
   "metadata": {},
   "outputs": [],
   "source": []
  }
 ],
 "metadata": {
  "kernelspec": {
   "display_name": "Python 3",
   "language": "python",
   "name": "python3"
  },
  "language_info": {
   "codemirror_mode": {
    "name": "ipython",
    "version": 3
   },
   "file_extension": ".py",
   "mimetype": "text/x-python",
   "name": "python",
   "nbconvert_exporter": "python",
   "pygments_lexer": "ipython3",
   "version": "3.6.1"
  }
 },
 "nbformat": 4,
 "nbformat_minor": 2
}
